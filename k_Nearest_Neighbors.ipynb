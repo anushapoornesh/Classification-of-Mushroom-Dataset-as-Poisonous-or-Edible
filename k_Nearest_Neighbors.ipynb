{
 "cells": [
  {
   "cell_type": "code",
   "execution_count": null,
   "metadata": {},
   "outputs": [],
   "source": [
    "# k_Nearest_Neighbors\n",
    "import numpy as np\n",
    "import pandas as pd\n",
    "import matplotlib.pyplot as plt\n",
    "import seaborn as sns\n",
    "from sklearn.preprocessing import LabelEncoder\n",
    "from sklearn.metrics import accuracy_score, f1_score, confusion_matrix\n",
    "from sklearn.model_selection import train_test_split\n",
    "from sklearn.preprocessing import OneHotEncoder, StandardScaler\n",
    "from sklearn.compose import ColumnTransformer\n",
    "from sklearn.pipeline import Pipeline\n",
    "from sklearn.neighbors import KNeighborsClassifier"
   ]
  },
  {
   "cell_type": "code",
   "execution_count": null,
   "metadata": {},
   "outputs": [],
   "source": [
    "# Load taining data\n",
    "Data_train = pd.read_csv('mushroom_train.csv')"
   ]
  },
  {
   "cell_type": "code",
   "execution_count": null,
   "metadata": {},
   "outputs": [],
   "source": [
    "# Load test data\n",
    "Data_test = pd.read_csv('mushroom_test.csv')"
   ]
  },
  {
   "cell_type": "code",
   "execution_count": null,
   "metadata": {},
   "outputs": [],
   "source": [
    "# Separate training data features and labels\n",
    "X = Data_train.drop(columns='class')\n",
    "y = Data_train['class']\n",
    "\n",
    "# Define column transformer\n",
    "numerical_features = ['cap-diameter', 'stem-height', 'stem-width']\n",
    "categorical_features = ['cap-shape', 'cap-surface', 'cap-color', 'does-bruise-or-bleed',\n",
    "                        'gill-attachment', 'gill-spacing', 'gill-color', 'stem-color', 'has-ring',\n",
    "                        'ring-type', 'habitat', 'season']\n",
    "\n",
    "column_transformer = ColumnTransformer(transformers=[\n",
    "    ('num', StandardScaler(), numerical_features),\n",
    "    ('cat', OneHotEncoder(), categorical_features)\n",
    "])\n",
    "\n",
    "# Create the pipeline\n",
    "transformer = Pipeline(steps=[('transformer', column_transformer)])\n",
    "\n",
    "# Fit and transform training data\n",
    "X_data = transformer.fit_transform(X)\n",
    "\n",
    "le = LabelEncoder()\n",
    "y_data = le.fit_transform(y)\n",
    "\n",
    "# Split data into training data and validation data\n",
    "X_train, X_val, y_train, y_val = train_test_split(X_data, y_data, test_size=0.2, random_state=42)"
   ]
  },
  {
   "cell_type": "code",
   "execution_count": null,
   "metadata": {},
   "outputs": [],
   "source": [
    "# Separate test data features and labels\n",
    "Xtest = Data_test.drop(columns='class')\n",
    "ytest = Data_test['class']\n",
    "\n",
    "# Transform test data using the same pipeline\n",
    "X_test = transformer.transform(Xtest)\n",
    "\n",
    "y_test = le.transform(ytest)"
   ]
  },
  {
   "cell_type": "code",
   "execution_count": null,
   "metadata": {},
   "outputs": [],
   "source": [
    "# K Nearest Neighbors\n",
    "n_values = [5, 10, 15, 20, 50, 100]\n",
    "\n",
    "for n_neighbors in n_values:\n",
    "    print(\"k=\",n_neighbors)\n",
    "    # Initialize the KNeighborsClassifier with the chosen number of neighbors\n",
    "    knn = KNeighborsClassifier(n_neighbors=n_neighbors)\n",
    "\n",
    "    knn.fit(X_train, y_train)\n",
    "\n",
    "    # Predict for validation data\n",
    "    y_pred_val = knn.predict(X_val)\n",
    "\n",
    "    accuracy_val = accuracy_score(y_val, y_pred_val)\n",
    "    f1_val = f1_score(y_val, y_pred_val, average='binary', pos_label=1)\n",
    "\n",
    "    # Predict for test data\n",
    "    y_test_pred = knn.predict(X_test)\n",
    "\n",
    "    # Calculate the accuracy of the model on the test data\n",
    "    test_accuracy = accuracy_score(y_test, y_test_pred)\n",
    "    f1_test = f1_score(y_test, y_test_pred, average='binary', pos_label=1)\n",
    "\n",
    "    # Print the accuracy, classification report, and confusion matrix for the test data\n",
    "    print(f\"Test Accuracy: {test_accuracy:.2f}\")\n",
    "    print(\"Test F1-score:\", f1_test)"
   ]
  },
  {
   "cell_type": "code",
   "execution_count": null,
   "metadata": {},
   "outputs": [],
   "source": [
    "# K Nearest Neighbors\n",
    "n_neighbors = 5\n",
    "\n",
    "# Initialize the KNeighborsClassifier with the chosen number of neighbors\n",
    "knn = KNeighborsClassifier(n_neighbors=n_neighbors)\n",
    "\n",
    "knn.fit(X_train, y_train)\n",
    "\n",
    "# Predict for validation data\n",
    "y_pred_val = knn.predict(X_val)\n",
    "\n",
    "accuracy_val = accuracy_score(y_val, y_pred_val)\n",
    "f1_val = f1_score(y_val, y_pred_val, average='binary', pos_label=1)\n",
    "\n",
    "print(\"Validation Accuracy: {accuracy_val}\")\n",
    "print(\"Validation F1-score:\", f1_val)\n",
    "\n",
    "# Predict for test data\n",
    "y_test_pred = knn.predict(X_test)\n",
    "\n",
    "# Calculate the accuracy of the model on test data\n",
    "test_accuracy = accuracy_score(y_test, y_test_pred)\n",
    "f1_test = f1_score(y_test, y_test_pred, average='binary', pos_label=1)\n",
    "\n",
    "print(\"Test Accuracy: {test_accuracy}\")\n",
    "print(\"Test F1-score:\", f1_test)\n",
    "\n",
    "# Generate the confusion matrix\n",
    "cm = confusion_matrix(y_test, y_test_pred)\n",
    "\n",
    "# Create a heatmap using the Seaborn library\n",
    "plt.figure(figsize=(6, 4))\n",
    "sns.heatmap(cm, annot=True, cmap=\"Blues\", fmt='g', xticklabels=['Edible', 'Poisonous'], yticklabels=['Edible', 'Poisonous'])\n",
    "\n",
    "plt.xlabel('Predicted labels')\n",
    "plt.ylabel('True labels')\n",
    "plt.title('Test Confusion Matrix')\n",
    "\n",
    "plt.show()"
   ]
  }
 ],
 "metadata": {
  "kernelspec": {
   "display_name": "ee559_work",
   "language": "python",
   "name": "python3"
  },
  "language_info": {
   "codemirror_mode": {
    "name": "ipython",
    "version": 3
   },
   "file_extension": ".py",
   "mimetype": "text/x-python",
   "name": "python",
   "nbconvert_exporter": "python",
   "pygments_lexer": "ipython3",
   "version": "3.8.16"
  },
  "orig_nbformat": 4
 },
 "nbformat": 4,
 "nbformat_minor": 2
}
