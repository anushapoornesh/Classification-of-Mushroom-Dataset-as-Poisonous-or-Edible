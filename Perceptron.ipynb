{
 "cells": [
  {
   "cell_type": "code",
   "execution_count": null,
   "metadata": {},
   "outputs": [],
   "source": [
    "# Perceptron\n",
    "import numpy as np\n",
    "import pandas as pd\n",
    "import matplotlib.pyplot as plt\n",
    "import seaborn as sns\n",
    "from sklearn.preprocessing import LabelEncoder\n",
    "from sklearn.metrics import accuracy_score, f1_score\n",
    "from sklearn.model_selection import train_test_split\n",
    "from sklearn.preprocessing import OneHotEncoder, StandardScaler\n",
    "from sklearn.compose import ColumnTransformer\n",
    "from sklearn.pipeline import Pipeline\n",
    "from sklearn.metrics import confusion_matrix\n",
    "from sklearn.model_selection import KFold"
   ]
  },
  {
   "cell_type": "code",
   "execution_count": null,
   "metadata": {},
   "outputs": [],
   "source": [
    "# Load taining data\n",
    "Data_train = pd.read_csv('mushroom_train.csv')"
   ]
  },
  {
   "cell_type": "code",
   "execution_count": null,
   "metadata": {},
   "outputs": [],
   "source": [
    "# Load test data\n",
    "Data_test = pd.read_csv('mushroom_test.csv')"
   ]
  },
  {
   "cell_type": "code",
   "execution_count": null,
   "metadata": {},
   "outputs": [],
   "source": [
    "# Separate training data features and labels\n",
    "X = Data_train.drop(columns='class')\n",
    "y = Data_train['class']\n",
    "\n",
    "# Define column transformer\n",
    "numerical_features = ['cap-diameter', 'stem-height', 'stem-width']\n",
    "categorical_features = ['cap-shape', 'cap-surface', 'cap-color', 'does-bruise-or-bleed',\n",
    "                        'gill-attachment', 'gill-spacing', 'gill-color', 'stem-color', 'has-ring',\n",
    "                        'ring-type', 'habitat', 'season']\n",
    "\n",
    "column_transformer = ColumnTransformer(transformers=[\n",
    "    ('num', StandardScaler(), numerical_features),\n",
    "    ('cat', OneHotEncoder(), categorical_features)\n",
    "])\n",
    "\n",
    "# Create the pipeline\n",
    "transformer = Pipeline(steps=[('transformer', column_transformer)])\n",
    "\n",
    "# Fit and transform training data\n",
    "X_data = transformer.fit_transform(X)\n",
    "\n",
    "le = LabelEncoder()\n",
    "y_data = le.fit_transform(y)\n",
    "\n",
    "# Split data into training data and validation data\n",
    "X_train, X_val, y_train, y_val = train_test_split(X_data, y_data, test_size=0.2, random_state=42)"
   ]
  },
  {
   "cell_type": "code",
   "execution_count": null,
   "metadata": {},
   "outputs": [],
   "source": [
    "# Separate test data features and labels\n",
    "Xtest = Data_test.drop(columns='class')\n",
    "ytest = Data_test['class']\n",
    "\n",
    "# Transform test data using the same pipeline\n",
    "X_test = transformer.transform(Xtest)\n",
    "\n",
    "y_test = le.transform(ytest)"
   ]
  },
  {
   "cell_type": "code",
   "execution_count": null,
   "metadata": {},
   "outputs": [],
   "source": [
    "def perceptron(X, y, n_epochs, learning_rate, batch_size, l2_reg):\n",
    "    n_samples, n_features = X.shape\n",
    "    weights = np.zeros(n_features)\n",
    "    bias = 0\n",
    "    \n",
    "    for epoch in range(n_epochs):\n",
    "        indices = np.random.permutation(n_samples)\n",
    "        X = X[indices]\n",
    "        y = y[indices]\n",
    "        \n",
    "        for i in range(0, n_samples, batch_size):\n",
    "            batch_X = X[i:i + batch_size]\n",
    "            batch_y = y[i:i + batch_size]\n",
    "            \n",
    "            y_pred = np.dot(batch_X, weights) + bias\n",
    "            y_pred = np.where(y_pred > 0, 1, -1)\n",
    "            errors = batch_y - y_pred\n",
    "            weights += learning_rate * (np.dot(batch_X.T, errors) - l2_reg * weights)\n",
    "            bias += learning_rate * np.sum(errors)\n",
    "    \n",
    "    return weights, bias"
   ]
  },
  {
   "cell_type": "code",
   "execution_count": null,
   "metadata": {},
   "outputs": [],
   "source": [
    "def predict(X, weights, bias):\n",
    "    y_pred = np.dot(X, weights) + bias\n",
    "    return np.where(y_pred > 0, 1, 0)"
   ]
  },
  {
   "cell_type": "code",
   "execution_count": null,
   "metadata": {},
   "outputs": [],
   "source": [
    "# Train the perceptron\n",
    "n_epochs = 100\n",
    "learning_rate = 0.1\n",
    "batch_size = 32\n",
    "l2_reg = 0.0001\n",
    "weights, bias = perceptron(X_train.toarray(), y_train * 2 - 1, n_epochs, learning_rate, batch_size, l2_reg)\n",
    "\n",
    "# Make predictions on the validation set\n",
    "y_pred_train = predict(X_train.toarray(), weights, bias)\n",
    "\n",
    "# Calculate the accuracy and F1-score for the train set\n",
    "accuracy_train = accuracy_score(y_train, y_pred_train)\n",
    "f1_train = f1_score(y_train, y_pred_train, average='binary', pos_label=1)\n",
    "\n",
    "print(\"Train accuracy:\", accuracy_train)\n",
    "print(\"Train F1-score:\", f1_train)\n",
    "print()\n",
    "\n",
    "# Make predictions on the validation set\n",
    "y_pred_val = predict(X_val.toarray(), weights, bias)\n",
    "\n",
    "# Calculate the accuracy and F1-score for validation set\n",
    "accuracy_val = accuracy_score(y_val, y_pred_val)\n",
    "f1_val = f1_score(y_val, y_pred_val, average='binary', pos_label=1)\n",
    "\n",
    "print(\"Validation accuracy:\", accuracy_val)\n",
    "print(\"Validation F1-score:\", f1_val)\n",
    "print()\n",
    "\n",
    "# Make predictions on the test set\n",
    "y_pred_test = predict(X_test.toarray(), weights, bias)\n",
    "\n",
    "# Calculate the accuracy and F1-score for test set\n",
    "accuracy_test = accuracy_score(y_test, y_pred_test)\n",
    "f1_test = f1_score(y_test, y_pred_test, average='binary', pos_label=1)\n",
    "\n",
    "print(\"Test accuracy:\", accuracy_test)\n",
    "print(\"Test F1-score:\", f1_test)\n",
    "\n",
    "# Generate the confusion matrix\n",
    "cm = confusion_matrix(y_test, y_pred_test)\n",
    "\n",
    "# Create a heatmap using the Seaborn library\n",
    "plt.figure(figsize=(6, 4))\n",
    "sns.heatmap(cm, annot=True, cmap=\"Blues\", fmt='g', xticklabels=['Edible', 'Poisonous'], yticklabels=['Edible', 'Poisonous'])\n",
    "\n",
    "plt.xlabel('Predicted labels')\n",
    "plt.ylabel('True labels')\n",
    "plt.title('Test Confusion Matrix')\n",
    "\n",
    "plt.show()"
   ]
  }
 ],
 "metadata": {
  "kernelspec": {
   "display_name": "ee559_work",
   "language": "python",
   "name": "python3"
  },
  "language_info": {
   "codemirror_mode": {
    "name": "ipython",
    "version": 3
   },
   "file_extension": ".py",
   "mimetype": "text/x-python",
   "name": "python",
   "nbconvert_exporter": "python",
   "pygments_lexer": "ipython3",
   "version": "3.8.16"
  },
  "orig_nbformat": 4
 },
 "nbformat": 4,
 "nbformat_minor": 2
}
