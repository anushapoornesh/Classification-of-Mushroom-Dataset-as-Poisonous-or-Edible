{
 "cells": [
  {
   "cell_type": "code",
   "execution_count": null,
   "metadata": {},
   "outputs": [],
   "source": [
    "# Baseline System\n",
    "import numpy as np\n",
    "import pandas as pd\n",
    "from sklearn.preprocessing import LabelEncoder\n",
    "from sklearn.metrics import accuracy_score, f1_score\n",
    "from sklearn.model_selection import train_test_split\n",
    "from sklearn.preprocessing import OneHotEncoder, StandardScaler\n",
    "from sklearn.compose import ColumnTransformer\n",
    "from sklearn.pipeline import Pipeline"
   ]
  },
  {
   "cell_type": "code",
   "execution_count": null,
   "metadata": {},
   "outputs": [],
   "source": [
    "# Load taining data\n",
    "Data_train = pd.read_csv('mushroom_train.csv')"
   ]
  },
  {
   "cell_type": "code",
   "execution_count": null,
   "metadata": {},
   "outputs": [],
   "source": [
    "# Load test data\n",
    "Data_test = pd.read_csv('mushroom_test.csv')"
   ]
  },
  {
   "cell_type": "code",
   "execution_count": null,
   "metadata": {},
   "outputs": [],
   "source": [
    "# Separate training data features and labels\n",
    "X = Data_train.drop(columns='class')\n",
    "y = Data_train['class']\n",
    "\n",
    "# Define column transformer\n",
    "numerical_features = ['cap-diameter', 'stem-height', 'stem-width']\n",
    "categorical_features = ['cap-shape', 'cap-surface', 'cap-color', 'does-bruise-or-bleed',\n",
    "                        'gill-attachment', 'gill-spacing', 'gill-color', 'stem-color', 'has-ring',\n",
    "                        'ring-type', 'habitat', 'season']\n",
    "\n",
    "column_transformer = ColumnTransformer(transformers=[\n",
    "    ('num', StandardScaler(), numerical_features),\n",
    "    ('cat', OneHotEncoder(), categorical_features)\n",
    "])\n",
    "\n",
    "# Create the pipeline\n",
    "transformer = Pipeline(steps=[('transformer', column_transformer)])\n",
    "\n",
    "# Fit and transform training data\n",
    "X_data = transformer.fit_transform(X)\n",
    "\n",
    "le = LabelEncoder()\n",
    "y_data = le.fit_transform(y)\n",
    "\n",
    "# Split data into training data and validation data\n",
    "X_train, X_val, y_train, y_val = train_test_split(X_data, y_data, test_size=0.2, random_state=42)"
   ]
  },
  {
   "cell_type": "code",
   "execution_count": null,
   "metadata": {},
   "outputs": [],
   "source": [
    "# Separate test data features and labels\n",
    "Xtest = Data_test.drop(columns='class')\n",
    "ytest = Data_test['class']\n",
    "\n",
    "# Transform test data using the same pipeline\n",
    "X_test = transformer.transform(Xtest)\n",
    "\n",
    "y_test = le.transform(ytest)"
   ]
  },
  {
   "cell_type": "code",
   "execution_count": null,
   "metadata": {},
   "outputs": [],
   "source": [
    "# Trivial system\n",
    "unique_labels, counts = np.unique(y_data, return_counts=True)\n",
    "\n",
    "probability = counts / counts.sum()\n",
    "\n",
    "y_pred = np.random.choice(unique_labels, size=len(y_test), p=probability)\n",
    "\n",
    "accuracy = accuracy_score(y_test, y_pred)\n",
    "f1 = f1_score(y_test, y_pred, average='binary', pos_label=1)\n",
    "\n",
    "print(\"Trivial system accuracy:\", accuracy)\n",
    "print(\"Trivial system F1-score:\", f1)"
   ]
  },
  {
   "cell_type": "code",
   "execution_count": null,
   "metadata": {},
   "outputs": [],
   "source": [
    "# Nearest Mean Classifier\n",
    "def classifier(X, y):\n",
    "    means = {}\n",
    "    for label in np.unique(y):\n",
    "        class_data = X[y == label]\n",
    "        class_mean = np.mean(class_data, axis=0)\n",
    "        means[label] = class_mean\n",
    "    return means\n",
    "\n",
    "def predict_nearest_mean(X, means):\n",
    "    predictions = []\n",
    "    for x in X:\n",
    "        min = float('inf')\n",
    "        predicted_class = None\n",
    "        for label, class_mean in means.items():\n",
    "            distance = np.linalg.norm(x - class_mean)\n",
    "            if distance < min:\n",
    "                min = distance\n",
    "                predicted_class = label\n",
    "        predictions.append(predicted_class)\n",
    "    return np.array(predictions)\n",
    "\n",
    "print(\"Nearest Mean Classifier\")\n",
    "# Train the Nearest Mean Classifier\n",
    "means = classifier(X_train, y_train)\n",
    "\n",
    "# Make predictions on validation set\n",
    "y_pred_val = predict_nearest_mean(X_val, means)\n",
    "\n",
    "# Calculate the accuracy and F1-score for the validation set\n",
    "accuracy_val = accuracy_score(y_val, y_pred_val)\n",
    "f1_val = f1_score(y_val, y_pred_val, average='binary', pos_label=1)\n",
    "\n",
    "print(\"Validation accuracy:\", accuracy_val)\n",
    "print(\"Validation F1-score:\", f1_val)\n",
    "print()\n",
    "\n",
    "# Train Nearest Mean Classifier on full training set\n",
    "class_means_full = classifier(X_data, y_data)\n",
    "\n",
    "# Make predictions on the test set\n",
    "y_pred_nc = predict_nearest_mean(X_test, class_means_full)\n",
    "\n",
    "# Calculate the accuracy and F1-score for test set\n",
    "accuracy_test = accuracy_score(y_test, y_pred_nc)\n",
    "f1_test = f1_score(y_test, y_pred_nc, average='binary', pos_label=1)\n",
    "\n",
    "print(\"Test accuracy:\", accuracy_test)\n",
    "print(\"Test F1-score:\", f1_test)"
   ]
  }
 ],
 "metadata": {
  "kernelspec": {
   "display_name": "ee559_work",
   "language": "python",
   "name": "python3"
  },
  "language_info": {
   "codemirror_mode": {
    "name": "ipython",
    "version": 3
   },
   "file_extension": ".py",
   "mimetype": "text/x-python",
   "name": "python",
   "nbconvert_exporter": "python",
   "pygments_lexer": "ipython3",
   "version": "3.8.16"
  },
  "orig_nbformat": 4
 },
 "nbformat": 4,
 "nbformat_minor": 2
}
